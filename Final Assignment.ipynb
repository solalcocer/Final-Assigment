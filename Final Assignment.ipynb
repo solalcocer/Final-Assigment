{
 "cells": [
  {
   "cell_type": "markdown",
   "id": "ab41e713-3455-4369-9dc6-206885fa15e0",
   "metadata": {},
   "source": [
    "<h1>My Jupyter Notebook on IBM Watson Studio</h1>"
   ]
  },
  {
   "cell_type": "markdown",
   "id": "0192e879-dfd9-4c27-8566-340b12964abf",
   "metadata": {},
   "source": [
    "<strong>Marisol Alcocer </strong>\n",
    "<br>\n",
    "Project Manager"
   ]
  },
  {
   "cell_type": "markdown",
   "id": "3fd9a20a-6117-4f28-8b31-dcb74d2dda6d",
   "metadata": {},
   "source": [
    "<em>I am interested in data science because i want to improve my profile like specialist adding a technical skill, and get a better and more interest job like a data scientist</em>"
   ]
  },
  {
   "cell_type": "markdown",
   "id": "98e148e4-3bda-4b84-9d8c-c552951b04e4",
   "metadata": {},
   "source": [
    "<h3>My code will concat a string and a number, using command print and str() function</h3>"
   ]
  },
  {
   "cell_type": "code",
   "execution_count": 19,
   "id": "b4696c3f-271c-42d1-bf61-8af5fb140d30",
   "metadata": {},
   "outputs": [
    {
     "name": "stdout",
     "output_type": "stream",
     "text": [
      "The sum of 2 + 2 is equal to 4\n"
     ]
    }
   ],
   "source": [
    "value=4\n",
    "txt=\"The sum of 2 + 2 is equal to \"\n",
    "print(txt+str(value))"
   ]
  },
  {
   "cell_type": "markdown",
   "id": "6060e0b4-ef7c-47a7-8b7e-1e229cf924a1",
   "metadata": {},
   "source": [
    "Horizontal rule<hr>\n",
    "<br>\n",
    "<ol>\n",
    "<li>Number one</li>\n",
    "<li>Number two</li>\n",
    "<li>Number three</li>\n",
    "</ol>\n",
    "<br>\n",
    "<s>strikethrough text</s>\n",
    "<br>\n",
    "\n",
    "|col1|col2|col3|\n",
    "|----|----|----|\n",
    "|fil1|fil1|fil1|\n",
    "|fil2|fil2|fil2|\n",
    "|fil3|fil3|fil3|"
   ]
  },
  {
   "cell_type": "code",
   "execution_count": null,
   "id": "19c454b4-db5a-4390-b4b0-395a4e8a4eb5",
   "metadata": {},
   "outputs": [],
   "source": []
  }
 ],
 "metadata": {
  "kernelspec": {
   "display_name": "Python",
   "language": "python",
   "name": "conda-env-python-py"
  },
  "language_info": {
   "codemirror_mode": {
    "name": "ipython",
    "version": 3
   },
   "file_extension": ".py",
   "mimetype": "text/x-python",
   "name": "python",
   "nbconvert_exporter": "python",
   "pygments_lexer": "ipython3",
   "version": "3.7.12"
  }
 },
 "nbformat": 4,
 "nbformat_minor": 5
}
